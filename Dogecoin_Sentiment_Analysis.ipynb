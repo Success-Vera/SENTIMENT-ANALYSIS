{
 "cells": [
  {
   "cell_type": "code",
   "execution_count": 1,
   "id": "b0a05d16",
   "metadata": {},
   "outputs": [],
   "source": [
    "import pandas as pd\n",
    "import matplotlib.pyplot as plt"
   ]
  },
  {
   "cell_type": "code",
   "execution_count": 2,
   "id": "bf6e14e8",
   "metadata": {
    "scrolled": true
   },
   "outputs": [
    {
     "data": {
      "text/html": [
       "<div>\n",
       "<style scoped>\n",
       "    .dataframe tbody tr th:only-of-type {\n",
       "        vertical-align: middle;\n",
       "    }\n",
       "\n",
       "    .dataframe tbody tr th {\n",
       "        vertical-align: top;\n",
       "    }\n",
       "\n",
       "    .dataframe thead th {\n",
       "        text-align: right;\n",
       "    }\n",
       "</style>\n",
       "<table border=\"1\" class=\"dataframe\">\n",
       "  <thead>\n",
       "    <tr style=\"text-align: right;\">\n",
       "      <th></th>\n",
       "      <th>Comments</th>\n",
       "      <th>Classification</th>\n",
       "      <th>Confidence</th>\n",
       "    </tr>\n",
       "  </thead>\n",
       "  <tbody>\n",
       "    <tr>\n",
       "      <th>0</th>\n",
       "      <td>Big things coming for the #dogecoin community!...</td>\n",
       "      <td>Positive</td>\n",
       "      <td>0.921</td>\n",
       "    </tr>\n",
       "    <tr>\n",
       "      <th>1</th>\n",
       "      <td>DogecoinRise Happening Right Now.</td>\n",
       "      <td>Neutral</td>\n",
       "      <td>0.938</td>\n",
       "    </tr>\n",
       "    <tr>\n",
       "      <th>2</th>\n",
       "      <td>Coinbase thinks DOGE will go to $2.44 by the e...</td>\n",
       "      <td>Neutral</td>\n",
       "      <td>0.584</td>\n",
       "    </tr>\n",
       "    <tr>\n",
       "      <th>3</th>\n",
       "      <td>Enough said. Yes, a joke is now legit</td>\n",
       "      <td>Negative</td>\n",
       "      <td>0.630</td>\n",
       "    </tr>\n",
       "    <tr>\n",
       "      <th>4</th>\n",
       "      <td>I've been through high and lows with dogecoin</td>\n",
       "      <td>Neutral</td>\n",
       "      <td>0.740</td>\n",
       "    </tr>\n",
       "  </tbody>\n",
       "</table>\n",
       "</div>"
      ],
      "text/plain": [
       "                                            Comments Classification  \\\n",
       "0  Big things coming for the #dogecoin community!...       Positive   \n",
       "1                  DogecoinRise Happening Right Now.        Neutral   \n",
       "2  Coinbase thinks DOGE will go to $2.44 by the e...        Neutral   \n",
       "3              Enough said. Yes, a joke is now legit       Negative   \n",
       "4      I've been through high and lows with dogecoin        Neutral   \n",
       "\n",
       "   Confidence  \n",
       "0       0.921  \n",
       "1       0.938  \n",
       "2       0.584  \n",
       "3       0.630  \n",
       "4       0.740  "
      ]
     },
     "execution_count": 2,
     "metadata": {},
     "output_type": "execute_result"
    }
   ],
   "source": [
    "data=pd.read_csv('Dodgecoin_Sentiment_Analysis.csv')\n",
    "data.head()"
   ]
  },
  {
   "cell_type": "code",
   "execution_count": 3,
   "id": "a9fbbdc8",
   "metadata": {},
   "outputs": [],
   "source": [
    "new_data=data[data.Confidence>0.6]\n"
   ]
  },
  {
   "cell_type": "code",
   "execution_count": 4,
   "id": "b818317b",
   "metadata": {},
   "outputs": [
    {
     "data": {
      "image/png": "[encoded data removed]",
      "text/plain": [
       "<Figure size 432x288 with 1 Axes>"
      ]
     },
     "metadata": {
      "needs_background": "light"
     },
     "output_type": "display_data"
    }
   ],
   "source": [
    "plt.hist(new_data['Classification'])\n",
    "plt.xlabel('Sentiments')\n",
    "plt.ylabel('Frequency')\n",
    "plt.title('Dodgecoin Sentiment Analysis')\n",
    "plt.savefig('Dogecoin Sentiment Analysis')\n",
    "plt.show()\n"
   ]
  }
 ],
 "metadata": {
  "kernelspec": {
   "display_name": "Python 3",
   "language": "python",
   "name": "python3"
  },
  "language_info": {
   "codemirror_mode": {
    "name": "ipython",
    "version": 3
   },
   "file_extension": ".py",
   "mimetype": "text/x-python",
   "name": "python",
   "nbconvert_exporter": "python",
   "pygments_lexer": "ipython3",
   "version": "3.9.1"
  }
 },
 "nbformat": 4,
 "nbformat_minor": 5
}
